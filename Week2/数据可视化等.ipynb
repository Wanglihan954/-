{
 "cells": [
  {
   "cell_type": "code",
   "execution_count": 1,
   "metadata": {
    "collapsed": true,
    "pycharm": {
     "name": "#%%\n"
    }
   },
   "outputs": [],
   "source": [
    "import numpy as np\n",
    "import pandas as pd\n",
    "from matplotlib import pyplot as plt\n",
    "from LinearRegression import *\n",
    "# 引入"
   ]
  },
  {
   "cell_type": "code",
   "execution_count": 2,
   "outputs": [],
   "source": [
    "#创建列表\n",
    "raw_root=\"housing.data\"\n",
    "name_root=\"housing.names\"\n",
    "# 引入地址\n",
    "raw_csv=pd.read_csv(raw_root,sep=\"\\s+\",header=None)\n",
    "target=raw_csv.values[:,13]\n",
    "data=raw_csv.values[:,:13]\n",
    "columns_csv=pd.read_csv(name_root,sep=\"\\s+\",skiprows=30,usecols=[1],header=None,nrows=13)\n",
    "columns=columns_csv.values\n",
    "columns=np.reshape(columns,[1,-1])\n",
    "columns=columns.tolist()"
   ],
   "metadata": {
    "collapsed": false,
    "pycharm": {
     "name": "#%%\n"
    }
   }
  },
  {
   "cell_type": "code",
   "execution_count": 6,
   "outputs": [],
   "source": [
    "dataframe=pd.DataFrame(data,columns=columns)\n",
    "dataframe['Price']=target"
   ],
   "metadata": {
    "collapsed": false,
    "pycharm": {
     "name": "#%%\n"
    }
   }
  },
  {
   "cell_type": "code",
   "execution_count": null,
   "outputs": [],
   "source": [
    "#太多了，仅展示前五行\n",
    "dataframe.head()"
   ],
   "metadata": {
    "collapsed": false,
    "pycharm": {
     "name": "#%%\n"
    }
   }
  },
  {
   "cell_type": "markdown",
   "source": [
    "数据分析已完成\n"
   ],
   "metadata": {
    "collapsed": false
   }
  },
  {
   "cell_type": "code",
   "execution_count": null,
   "outputs": [],
   "source": [
    "a=np.ones([506,1])\n",
    "X=np.hstack((a,data))\n",
    "# 对X进行处理\n",
    "train_x,train_y=X[:int(0.7*X.shape[0])],target[:int(0.7*X.shape[0])]\n",
    "test_x,test_y=X[int(0.7*X.shape[0]):],target[int(0.7*X.shape[0]):]\n",
    "# 前70%作训练集，后30%为测试集"
   ],
   "metadata": {
    "collapsed": false,
    "pycharm": {
     "name": "#%%\n"
    }
   }
  },
  {
   "cell_type": "markdown",
   "source": [
    "开始训练"
   ],
   "metadata": {
    "collapsed": false
   }
  },
  {
   "cell_type": "code",
   "execution_count": null,
   "outputs": [],
   "source": [
    "lr=1e-2#学习率\n",
    "epoch=10000"
   ],
   "metadata": {
    "collapsed": false,
    "pycharm": {
     "name": "#%%\n"
    }
   }
  },
  {
   "cell_type": "code",
   "execution_count": null,
   "outputs": [],
   "source": [
    "linear=LinearRegression(train_x,train_y,lr,epoch)\n",
    "linear.fit()"
   ],
   "metadata": {
    "collapsed": false,
    "pycharm": {
     "name": "#%%\n"
    }
   }
  },
  {
   "cell_type": "code",
   "execution_count": null,
   "outputs": [],
   "source": [
    "#测试\n",
    "pred_y=linear.predict(test_x)"
   ],
   "metadata": {
    "collapsed": false,
    "pycharm": {
     "name": "#%%\n"
    }
   }
  },
  {
   "cell_type": "markdown",
   "source": [
    "可视化"
   ],
   "metadata": {
    "collapsed": false
   }
  },
  {
   "cell_type": "code",
   "execution_count": null,
   "outputs": [],
   "source": [
    "plt.scatter(target[int(0.8*X.shape[0]):],pred_y)\n",
    "x=np.arange(0,50)\n",
    "y=x\n",
    "plt.title(\"波士顿房价预测\")\n",
    "plt.xlabel(\"Predict\")\n",
    "plt.ylabel(\"Target\")\n",
    "plt.plot(x,y,'r')\n",
    "plt.show()"
   ],
   "metadata": {
    "collapsed": false,
    "pycharm": {
     "name": "#%%\n"
    }
   }
  }
 ],
 "metadata": {
  "kernelspec": {
   "display_name": "Python 3",
   "language": "python",
   "name": "python3"
  },
  "language_info": {
   "codemirror_mode": {
    "name": "ipython",
    "version": 2
   },
   "file_extension": ".py",
   "mimetype": "text/x-python",
   "name": "python",
   "nbconvert_exporter": "python",
   "pygments_lexer": "ipython2",
   "version": "2.7.6"
  }
 },
 "nbformat": 4,
 "nbformat_minor": 0
}